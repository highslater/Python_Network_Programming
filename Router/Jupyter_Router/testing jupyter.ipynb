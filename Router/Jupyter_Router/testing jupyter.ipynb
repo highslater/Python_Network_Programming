{
 "cells": [
  {
   "cell_type": "markdown",
   "metadata": {},
   "source": [
    "![mpls_topology](img/mpls001.png)"
   ]
  },
  {
   "cell_type": "raw",
   "metadata": {},
   "source": [
    "#!/usr/bin/env python3\n",
    "\n",
    "##Router_Default\n",
    "\n",
    "\n",
    "import getpass\n",
    "import telnetlib\n",
    "\n",
    "HOST = input(\"Enter HOST ADDRESS: \")\n",
    "user = input(\"Enter your remote account: \")\n",
    "password = getpass.getpass()\n",
    "\n",
    "tn = telnetlib.Telnet(HOST)\n",
    "tn.read_until(b\"Username: \")\n",
    "tn.write(user.encode('ascii') + b\"\\n\")\n",
    "\n",
    "if password:\n",
    "    tn.read_until(b\"Password: \")\n",
    "    tn.write(password.encode('ascii') + b\"\\n\")\n",
    "\n",
    "tn.write(b\"conf t\\n\")\n",
    "tn.write(b\"enable secret cisco\\n\")\n",
    "tn.write(b\"username ccna privilege 15 password cisco\\n\")\n",
    "tn.write(b\"ip domain-lookup\\n\")\n",
    "tn.write(b\"ip name-server 192.168.122.1\\n\")\n",
    "tn.write(b\"ip http server\\n\")\n",
    "tn.write(b\"ip domain-name gns3.com\\n\")\n",
    "tn.write(b\"line console 0\\n\")\n",
    "tn.write(b\"logging synchronous\\n\")\n",
    "tn.write(b\"exec-timeout 0 0\\n\")\n",
    "tn.write(b\"login local\\n\")\n",
    "tn.write(b\"line vty 0 4\\n\")\n",
    "tn.write(b\"logging synchronous\\n\")\n",
    "tn.write(b\"exec-timeout 0 0\\n\")\n",
    "tn.write(b\"login local\\n\")\n",
    "tn.write(b\"line aux 0\\n\")\n",
    "tn.write(b\"logging synchronous\\n\")\n",
    "tn.write(b\"exec-timeout 0 0\\n\")\n",
    "tn.write(b\"login local\\n\")\n",
    "tn.write(b\"exit\\n\")\n",
    "tn.write(b\"exit\\n\")\n",
    "tn.write(b\"cop r s\\n\")\n",
    "tn.write(b\"\\n\")\n",
    "tn.write(b\"exit\\n\")\n",
    "print(\"\\n\\n\\n*** START ***\")\n",
    "print(tn.read_all().decode('ascii'))\n",
    "print(\"*** COMPLETE ***\\n\\n\\n\")\n",
    "\n"
   ]
  },
  {
   "cell_type": "code",
   "execution_count": null,
   "metadata": {
    "scrolled": true
   },
   "outputs": [],
   "source": [
    "%lsmagic"
   ]
  },
  {
   "cell_type": "code",
   "execution_count": null,
   "metadata": {},
   "outputs": [],
   "source": [
    "%pwd"
   ]
  },
  {
   "cell_type": "code",
   "execution_count": null,
   "metadata": {},
   "outputs": [],
   "source": [
    "%ls -hal"
   ]
  },
  {
   "cell_type": "code",
   "execution_count": null,
   "metadata": {},
   "outputs": [],
   "source": []
  }
 ],
 "metadata": {
  "kernelspec": {
   "display_name": "Python 3",
   "language": "python",
   "name": "python3"
  },
  "language_info": {
   "codemirror_mode": {
    "name": "ipython",
    "version": 3
   },
   "file_extension": ".py",
   "mimetype": "text/x-python",
   "name": "python",
   "nbconvert_exporter": "python",
   "pygments_lexer": "ipython3",
   "version": "3.5.2"
  }
 },
 "nbformat": 4,
 "nbformat_minor": 2
}
